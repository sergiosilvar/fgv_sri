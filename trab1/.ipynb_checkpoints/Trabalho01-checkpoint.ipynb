{
 "metadata": {
  "name": "",
  "signature": "sha256:6b8b7d624369672567420271192f7ef43a0b87f7486c50ba13a722022f121d56"
 },
 "nbformat": 3,
 "nbformat_minor": 0,
 "worksheets": []
}