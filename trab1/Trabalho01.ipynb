{
 "metadata": {
  "name": "",
  "signature": "sha256:0e643204227d5037517b680f286b5b5831f6fe6307c4e1d1cd7fd9e462c9d888"
 },
 "nbformat": 3,
 "nbformat_minor": 0,
 "worksheets": [
  {
   "cells": [
    {
     "cell_type": "markdown",
     "metadata": {},
     "source": [
      "## FGV\n",
      "### Sistemas de Recupera\u00e7\u00e3o de Informa\u00e7\u00f5es - 2\u00ba tri 2014\n",
      "### S\u00e9rgio Rodrigues\n",
      "## \u00cdndice de palavras em um documento."
     ]
    },
    {
     "cell_type": "code",
     "collapsed": false,
     "input": [
      "import nltk\n",
      "import re\n",
      "print nltk.corpus.webtext.readme()"
     ],
     "language": "python",
     "metadata": {},
     "outputs": [
      {
       "output_type": "stream",
       "stream": "stdout",
       "text": [
        "Web Text Corpus\n",
        "\n",
        "This is a collection of diverse, contemporary text genres,\n",
        "collected by scraping publicly accessible archives of web postings.\n",
        "This data is disseminated in preference to publishing URLs for\n",
        "individuals to download and clean up (the usual model for web corpora).\n",
        "\n",
        "firefox.txt: Firefox support forum\n",
        "overheard.txt: Overheard in New York (partly censored) http://www.overheardinnewyork.com/ (2006)\n",
        "pirates.txt: Movie script from Pirates of the Caribbean: Dead Man's Chest http://www.imsdb.com/  (2006)\n",
        "grail.txt: Movie script from Monty Python and the Holy Grail http://www.textfiles.com/media/SCRIPTS/grail\n",
        "singles.txt: Singles ads  http://search.classifieds.news.com.au/\n",
        "wine.txt:  Fine Wine Diary http://www.finewinediary.com/ (2005-06)\n",
        "\n"
       ]
      }
     ],
     "prompt_number": 16
    },
    {
     "cell_type": "code",
     "collapsed": false,
     "input": [
      "# Cria o corpus, a lista de documentos. \n",
      "corpus = [nltk.corpus.webtext.words(fid) for fid in  nltk.corpus.webtext.fileids()]\n",
      "\n",
      "# Preprocessa o corpus, remove stopwords e palavras pequenas\n",
      "# e converte as palavras para min\u00fasculo.\n",
      "stopwords = nltk.corpus.stopwords.words('english')\n",
      "corpus = [[w.lower() for  w in words if (len(w) > 2) and (w.lower() not in stopwords) and (re.search(r'[a-z]',w.lower()))] for words in corpus]"
     ],
     "language": "python",
     "metadata": {},
     "outputs": [],
     "prompt_number": 49
    },
    {
     "cell_type": "code",
     "collapsed": false,
     "input": [
      "# Cria \u00edndice invertido, armazenando o id do documento para cada palavra.\n",
      "index = {}\n",
      "for i,doc in enumerate(corpus):\n",
      "    for w in doc:\n",
      "        l = index.setdefault(w,set([]))\n",
      "        l.add(i)"
     ],
     "language": "python",
     "metadata": {},
     "outputs": [],
     "prompt_number": 64
    },
    {
     "cell_type": "code",
     "collapsed": false,
     "input": [
      "# Documentos que cont\u00e9m a palavra \"actually\".\n",
      "index['actually']"
     ],
     "language": "python",
     "metadata": {},
     "outputs": [
      {
       "metadata": {},
       "output_type": "pyout",
       "prompt_number": 71,
       "text": [
        "{1, 2, 3}"
       ]
      }
     ],
     "prompt_number": 71
    },
    {
     "cell_type": "code",
     "collapsed": false,
     "input": [
      "# Documentos que cont\u00e9m a palavra \"actually\".\n",
      "index['god']"
     ],
     "language": "python",
     "metadata": {},
     "outputs": [
      {
       "metadata": {},
       "output_type": "pyout",
       "prompt_number": 72,
       "text": [
        "{1, 2, 3}"
       ]
      }
     ],
     "prompt_number": 72
    },
    {
     "cell_type": "code",
     "collapsed": false,
     "input": [
      "# Documentos que cont\u00e9m a palavra \"actually\" e \"bad\".\n",
      "index['god']&index['bad']"
     ],
     "language": "python",
     "metadata": {},
     "outputs": [
      {
       "metadata": {},
       "output_type": "pyout",
       "prompt_number": 75,
       "text": [
        "{1, 2, 3}"
       ]
      }
     ],
     "prompt_number": 75
    },
    {
     "cell_type": "code",
     "collapsed": false,
     "input": [],
     "language": "python",
     "metadata": {},
     "outputs": [],
     "prompt_number": 24
    }
   ],
   "metadata": {}
  }
 ]
}