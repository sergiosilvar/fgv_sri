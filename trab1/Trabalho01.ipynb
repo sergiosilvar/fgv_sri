{
 "metadata": {
  "name": "",
  "signature": "sha256:0162390711b219a247cf793a3723444f7dae72fbcb89f63251d76ac16fc05e37"
 },
 "nbformat": 3,
 "nbformat_minor": 0,
 "worksheets": [
  {
   "cells": [
    {
     "cell_type": "markdown",
     "metadata": {},
     "source": [
      "## FGV\n",
      "### Sistemas de Recupera\u00e7\u00e3o de Informa\u00e7\u00f5es - 2\u00ba tri 2014\n",
      "### S\u00e9rgio Rodrigues\n",
      "## \u00cdndice de palavras em um documento."
     ]
    },
    {
     "cell_type": "code",
     "collapsed": false,
     "input": [
      "import nltk\n",
      "import re\n",
      "\n",
      "\n",
      "gen = nltk.corpus.genesis\n",
      "print gen.readme()"
     ],
     "language": "python",
     "metadata": {},
     "outputs": [
      {
       "output_type": "stream",
       "stream": "stdout",
       "text": [
        "Genesis Corpus\n",
        "\n",
        "This corpus has been prepared from several web sources; formatting,\n",
        "markup and verse numbers have been stripped.\n",
        "\n",
        "CONTENTS\n",
        "\n",
        "english-kjv.txt - Genesis, King James version (Project Gutenberg)\n",
        "english-web.txt - Genesis, World English Bible (Project Gutenberg)\n",
        "finnish.txt - Genesis, Suomen evankelis-luterilaisen kirkon kirkolliskokouksen vuonna 1992 k\ufffdytt\ufffd\ufffdn ottama suomennos\n",
        "french.txt - Genesis, Louis Segond 1910\n",
        "german.txt - Genesis, Luther Translation\n",
        "lolcat.txt - Genesis, Lolcat version http://www.lolcatbible.com/\n",
        "portuguese.txt - Genesis, Brazilian Portuguese version - http://www.bibliaonline.com.br\n",
        "swedish.txt - Genesis, Gamla och Nya Testamentet, 1917 (Project Runeberg)\n",
        "\n"
       ]
      }
     ],
     "prompt_number": 10
    },
    {
     "cell_type": "code",
     "collapsed": false,
     "input": [
      "# Cria lista de palavras, excluindo as desnecess\u00e1rias.\n",
      "\n",
      "stopwords = nltk.corpus.stopwords.words('english')\n",
      "words = gen.words('english-web.txt')\n",
      "words = [w.lower() for  w in words if (len(w) > 2) and (w.lower() not in stopwords) and (re.search(r'[a-z]',w.lower()))]"
     ],
     "language": "python",
     "metadata": {},
     "outputs": [],
     "prompt_number": 4
    },
    {
     "cell_type": "code",
     "collapsed": false,
     "input": [
      "# Cria \u00edndice de posi\u00e7\u00e3o de cada palavra no texto e contador.\n",
      "index = {}\n",
      "for i,w in enumerate(words):\n",
      "    l = index.setdefault(w,[])\n",
      "    l.append(i)\n",
      "counter = {}\n",
      "map(lambda k: counter.setdefault(k,len(index[k])), index.keys());\n",
      "counter = sorted(counter.items(), key=lambda x: x[1], reverse=True)"
     ],
     "language": "python",
     "metadata": {},
     "outputs": [],
     "prompt_number": 21
    },
    {
     "cell_type": "code",
     "collapsed": false,
     "input": [
      "print u'Por exemplo, \"Abraham\" aparece {} nas posi\u00e7\u00f5es {}.'.format(counter['abraham'],index['abraham'])"
     ],
     "language": "python",
     "metadata": {},
     "outputs": [
      {
       "output_type": "stream",
       "stream": "stdout",
       "text": [
        "Por exemplo, \"Abraham\" aparece 134 nas posi\u00e7\u00f5es [4144, 4176, 4235, 4255, 4273, 4322, 4323, 4335, 4343, 4360, 4424, 4439, 4480, 4502, 4535, 4542, 4544, 4569, 4591, 4595, 4637, 4704, 4705, 5006, 5034, 5151, 5162, 5245, 5259, 5263, 5304, 5327, 5345, 5357, 5365, 5372, 5381, 5400, 5412, 5425, 5429, 5440, 5446, 5465, 5570, 5588, 5591, 5611, 5620, 5628, 5661, 5671, 5682, 5684, 5701, 5724, 5730, 5741, 5757, 5769, 5783, 5795, 5808, 5809, 5824, 5834, 5843, 5857, 5891, 5899, 5905, 5933, 5962, 5967, 5988, 6004, 6045, 6066, 6086, 6100, 6103, 6129, 6137, 6151, 6157, 6164, 6166, 6210, 6249, 6287, 6295, 6343, 6459, 6540, 6620, 6706, 6745, 6814, 6901, 6933, 6937, 6939, 6953, 6961, 6987, 6991, 6997, 7010, 7017, 7073, 7075, 7234, 7257, 7270, 7379, 7402, 7407, 7464, 7471, 8123, 8131, 8192, 8239, 9556, 9661, 9785, 10662, 10792, 15282, 15300, 15652, 15660, 15824, 15950].\n"
       ]
      }
     ],
     "prompt_number": 7
    },
    {
     "cell_type": "code",
     "collapsed": false,
     "input": [
      "# Palavras mais comuns.\n",
      "counter[:10]"
     ],
     "language": "python",
     "metadata": {},
     "outputs": [
      {
       "metadata": {},
       "output_type": "pyout",
       "prompt_number": 24,
       "text": [
        "[(u'said', 471),\n",
        " (u'father', 270),\n",
        " (u'god', 229),\n",
        " (u'land', 195),\n",
        " (u'jacob', 185),\n",
        " (u'yahweh', 167),\n",
        " (u'son', 159),\n",
        " (u'joseph', 156),\n",
        " (u'sons', 144),\n",
        " (u'abraham', 134)]"
       ]
      }
     ],
     "prompt_number": 24
    },
    {
     "cell_type": "code",
     "collapsed": false,
     "input": [],
     "language": "python",
     "metadata": {},
     "outputs": [],
     "prompt_number": 24
    }
   ],
   "metadata": {}
  }
 ]
}