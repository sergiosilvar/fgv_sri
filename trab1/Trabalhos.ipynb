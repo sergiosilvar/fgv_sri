{
 "metadata": {
  "name": "",
  "signature": "sha256:16d1e6382e19c58bae75f7745aaffbceb3d032e2d6399c50760dd12e5f3804bf"
 },
 "nbformat": 3,
 "nbformat_minor": 0,
 "worksheets": [
  {
   "cells": [
    {
     "cell_type": "markdown",
     "metadata": {},
     "source": [
      "# FGV\n",
      "## Sistemas de Recupera\u00e7\u00e3o de Informa\u00e7\u00f5es - 2\u00ba tri 2014\n",
      "## S\u00e9rgio Rodrigues\n"
     ]
    },
    {
     "cell_type": "markdown",
     "metadata": {},
     "source": [
      "### Trabalho 1: \u00cdndice reverso de palavras em uma lista de documentos."
     ]
    },
    {
     "cell_type": "code",
     "collapsed": false,
     "input": [
      "import nltk\n",
      "import re\n",
      "print nltk.corpus.webtext.readme()"
     ],
     "language": "python",
     "metadata": {},
     "outputs": [
      {
       "output_type": "stream",
       "stream": "stdout",
       "text": [
        "Web Text Corpus\n",
        "\n",
        "This is a collection of diverse, contemporary text genres,\n",
        "collected by scraping publicly accessible archives of web postings.\n",
        "This data is disseminated in preference to publishing URLs for\n",
        "individuals to download and clean up (the usual model for web corpora).\n",
        "\n",
        "firefox.txt: Firefox support forum\n",
        "overheard.txt: Overheard in New York (partly censored) http://www.overheardinnewyork.com/ (2006)\n",
        "pirates.txt: Movie script from Pirates of the Caribbean: Dead Man's Chest http://www.imsdb.com/  (2006)\n",
        "grail.txt: Movie script from Monty Python and the Holy Grail http://www.textfiles.com/media/SCRIPTS/grail\n",
        "singles.txt: Singles ads  http://search.classifieds.news.com.au/\n",
        "wine.txt:  Fine Wine Diary http://www.finewinediary.com/ (2005-06)\n",
        "\n"
       ]
      }
     ],
     "prompt_number": 1
    },
    {
     "cell_type": "code",
     "collapsed": false,
     "input": [
      "# Cria o corpus, a lista de documentos. \n",
      "corpus = [nltk.corpus.webtext.words(fid) for fid in  nltk.corpus.webtext.fileids()]\n",
      "\n",
      "# Preprocessa o corpus, remove stopwords e palavras pequenas\n",
      "# e converte as palavras para min\u00fasculo.\n",
      "stopwords = nltk.corpus.stopwords.words('english')\n",
      "corpus = [[w.lower() for  w in words if (w.isalpha()) and (len(w) > 2) and (w.lower() not in stopwords) and (re.search(r'[a-z]',w.lower()))] for words in corpus]"
     ],
     "language": "python",
     "metadata": {},
     "outputs": [],
     "prompt_number": 2
    },
    {
     "cell_type": "code",
     "collapsed": false,
     "input": [
      "# Cria \u00edndice invertido, armazenando o id do documento para cada palavra.\n",
      "index = {}\n",
      "for i,doc in enumerate(corpus):\n",
      "    for w in doc:\n",
      "        l = index.setdefault(w,set([]))\n",
      "        l.add(i)"
     ],
     "language": "python",
     "metadata": {},
     "outputs": [],
     "prompt_number": 3
    },
    {
     "cell_type": "code",
     "collapsed": false,
     "input": [
      "# Retorna lista com identificadores dos documentos com a palavra 'word'.\n",
      "def docs_with_word(word):\n",
      "    return index.get(word)"
     ],
     "language": "python",
     "metadata": {},
     "outputs": [],
     "prompt_number": 10
    },
    {
     "cell_type": "code",
     "collapsed": false,
     "input": [
      "# Documentos que cont\u00e9m a palavra \"actually\".\n",
      "docs_with_word('actually')"
     ],
     "language": "python",
     "metadata": {},
     "outputs": [
      {
       "metadata": {},
       "output_type": "pyout",
       "prompt_number": 5,
       "text": [
        "{0, 1, 2, 3, 5}"
       ]
      }
     ],
     "prompt_number": 5
    },
    {
     "cell_type": "code",
     "collapsed": false,
     "input": [
      "# Documentos que cont\u00e9m a palavra \"actually\".\n",
      "docs_with_word('god')"
     ],
     "language": "python",
     "metadata": {},
     "outputs": [
      {
       "metadata": {},
       "output_type": "pyout",
       "prompt_number": 6,
       "text": [
        "{1, 2, 3}"
       ]
      }
     ],
     "prompt_number": 6
    },
    {
     "cell_type": "code",
     "collapsed": false,
     "input": [
      "# Documentos que cont\u00e9m a palavra \"actually\" e \"bad\".\n",
      "docs_with_word('god')&docs_with_word('bad')"
     ],
     "language": "python",
     "metadata": {},
     "outputs": [
      {
       "metadata": {},
       "output_type": "pyout",
       "prompt_number": 8,
       "text": [
        "{1, 2, 3}"
       ]
      }
     ],
     "prompt_number": 8
    },
    {
     "cell_type": "markdown",
     "metadata": {},
     "source": [
      "### Vocabul\u00e1rio do corpus."
     ]
    },
    {
     "cell_type": "code",
     "collapsed": false,
     "input": [
      "# Constru\u00e7\u00e3o do vocabul\u00e1rio do corpus.\n",
      "vocab = set([])\n",
      "for c in corpus:\n",
      "    vocab = vocab | set(c)\n"
     ],
     "language": "python",
     "metadata": {},
     "outputs": [],
     "prompt_number": 9
    },
    {
     "cell_type": "markdown",
     "metadata": {},
     "source": [
      "### Trabalho 2 - parte 1: Implementa\u00e7\u00e3o da dist\u00e2ncia de Levenshtein."
     ]
    },
    {
     "cell_type": "code",
     "collapsed": false,
     "input": [
      "%pylab"
     ],
     "language": "python",
     "metadata": {},
     "outputs": [
      {
       "output_type": "stream",
       "stream": "stdout",
       "text": [
        "Using matplotlib backend: WXAgg\n",
        "Populating the interactive namespace from numpy and matplotlib\n"
       ]
      }
     ],
     "prompt_number": 15
    },
    {
     "cell_type": "code",
     "collapsed": false,
     "input": [
      "# Retorna dist\u00e2nica de Levenshtein entre s1 e s2.\n",
      "def edit_distance(s1,s2):\n",
      "    r = len(s1)+1\n",
      "    c = len(s2)+1\n",
      "    m = zeros((r,c))\n",
      "    m[:,0] = range(0,r)\n",
      "    m[0,:] = range(0,c)\n",
      "    for i in range(1,r):\n",
      "        for j in range(1,c):\n",
      "            m[i,j] = min(m[i-1,j-1] + (0 if s1[i-1]==s2[j-1] else 1), m[i-1,j]+1, m[i,j-1]+1)\n",
      "    return m[r-1,c-1]"
     ],
     "language": "python",
     "metadata": {},
     "outputs": [],
     "prompt_number": 16
    },
    {
     "cell_type": "code",
     "collapsed": false,
     "input": [
      "# Exemplo:\n",
      "edit_distance('lagarto','largato')"
     ],
     "language": "python",
     "metadata": {},
     "outputs": [
      {
       "metadata": {},
       "output_type": "pyout",
       "prompt_number": 17,
       "text": [
        "2.0"
       ]
      }
     ],
     "prompt_number": 17
    },
    {
     "cell_type": "code",
     "collapsed": false,
     "input": [
      "edit_distance('aaarbbb','bbbraaa')"
     ],
     "language": "python",
     "metadata": {},
     "outputs": [
      {
       "metadata": {},
       "output_type": "pyout",
       "prompt_number": 18,
       "text": [
        "6.0"
       ]
      }
     ],
     "prompt_number": 18
    },
    {
     "cell_type": "code",
     "collapsed": false,
     "input": [
      "edit_distance('duas palavras', 'duas pOlavras')"
     ],
     "language": "python",
     "metadata": {},
     "outputs": [
      {
       "metadata": {},
       "output_type": "pyout",
       "prompt_number": 19,
       "text": [
        "1.0"
       ]
      }
     ],
     "prompt_number": 19
    },
    {
     "cell_type": "markdown",
     "metadata": {},
     "source": [
      "### Trabalho 2 - parte 2: Implementa\u00e7\u00e3o do algoritmo SOUNDEX."
     ]
    },
    {
     "cell_type": "code",
     "collapsed": false,
     "input": [
      "import re\n",
      "\n",
      "# Retorna codifica\u00e7\u00e3o SOUNDEX da string 's'.\n",
      "def soundex(s):\n",
      "    r = s[0]\n",
      "\n",
      "    # Step 1: Retain the first letter of the term.\n",
      "    s = s[1:]\n",
      "\n",
      "    # Step 2 and 3: Change letters to numbers. \n",
      "    repl = []\n",
      "    repl.append(re.compile(r'[aeiouhwy]'))\n",
      "    repl.append(re.compile(r'[bfpv]'))\n",
      "    repl.append(re.compile(r'[cgjkqsxz]'))\n",
      "    repl.append(re.compile(r'[dt]'))\n",
      "    repl.append(re.compile(r'l'))\n",
      "    repl.append(re.compile(r'[mn]'))\n",
      "    repl.append(re.compile(r'r'))\n",
      "\n",
      "    for i in range(0,7):\n",
      "        s = repl[i].sub(str(i), s)\n",
      "\n",
      "    # Step 4: Repeatedly remove one out of each pair of consecutive identical digits.\n",
      "    s = re.sub(r'([0-9a-z])\\1+', r'\\1', s)\n",
      "\n",
      "    # Step 5: 5. Remove all zeros from the resulting string. Pad the resulting string with\n",
      "    # trailing zeros and return the first four positions, which will consist of a\n",
      "    # letter followed by three digits.\n",
      "    s = s.replace('0','')\n",
      "    s = s.ljust(3,'0')\n",
      "    return (r+s)[:4]"
     ],
     "language": "python",
     "metadata": {},
     "outputs": [],
     "prompt_number": 20
    },
    {
     "cell_type": "code",
     "collapsed": false,
     "input": [
      "# Exemplos:\n",
      "\n",
      "soundex('danielle'),soundex('daniele'),soundex('daniely')"
     ],
     "language": "python",
     "metadata": {},
     "outputs": [
      {
       "metadata": {},
       "output_type": "pyout",
       "prompt_number": 21,
       "text": [
        "('d540', 'd540', 'd540')"
       ]
      }
     ],
     "prompt_number": 21
    },
    {
     "cell_type": "code",
     "collapsed": false,
     "input": [
      "# Constru\u00e7\u00e3o do \u00edndice reverso  soundex.\n",
      "sdx = {}\n",
      "map(lambda word: sdx.setdefault(soundex(word),[]).append(word), vocab);\n"
     ],
     "language": "python",
     "metadata": {},
     "outputs": [],
     "prompt_number": 23
    },
    {
     "cell_type": "code",
     "collapsed": false,
     "input": [
      "# Constru\u00e7\u00e3o de \u00edndice de palavras para o respectivo soundex.\n",
      "idx_sdx = {}\n",
      "map(lambda w: idx_sdx.setdefault(w,soundex(w)), vocab);"
     ],
     "language": "python",
     "metadata": {},
     "outputs": [],
     "prompt_number": 24
    },
    {
     "cell_type": "code",
     "collapsed": false,
     "input": [
      "# Retorna palavras parecidas com base no SOUNDEX.\n",
      "def soundex_like(word):\n",
      "    key_sdx = idx_sdx.get(word)\n",
      "    if key_sdx:\n",
      "        return sdx.get(key_sdx)\n",
      "    else:\n",
      "        print 'Word {} not found in vocabulary!'.format(word)"
     ],
     "language": "python",
     "metadata": {},
     "outputs": [],
     "prompt_number": 25
    },
    {
     "cell_type": "code",
     "collapsed": false,
     "input": [
      "# Exemplos de palavras parecidas com base no Soundex.\n",
      "soundex_like('god')"
     ],
     "language": "python",
     "metadata": {},
     "outputs": [
      {
       "metadata": {},
       "output_type": "pyout",
       "prompt_number": 26,
       "text": [
        "['gdi',\n",
        " 'gateway',\n",
        " 'gut',\n",
        " 'goddd',\n",
        " 'guido',\n",
        " 'goth',\n",
        " 'goto',\n",
        " 'gotti',\n",
        " 'gotta',\n",
        " 'get',\n",
        " 'ged',\n",
        " 'good',\n",
        " 'god',\n",
        " 'ghet',\n",
        " 'gate',\n",
        " 'got',\n",
        " 'goodie',\n",
        " 'git',\n",
        " 'guide',\n",
        " 'goat',\n",
        " 'gawd',\n",
        " 'ghetto']"
       ]
      }
     ],
     "prompt_number": 26
    },
    {
     "cell_type": "code",
     "collapsed": false,
     "input": [
      "soundex_like('keyboard')"
     ],
     "language": "python",
     "metadata": {},
     "outputs": [
      {
       "metadata": {},
       "output_type": "pyout",
       "prompt_number": 27,
       "text": [
        "['keyboard', 'keyboards']"
       ]
      }
     ],
     "prompt_number": 27
    },
    {
     "cell_type": "code",
     "collapsed": false,
     "input": [
      "soundex_like('mouse')"
     ],
     "language": "python",
     "metadata": {},
     "outputs": [
      {
       "metadata": {},
       "output_type": "pyout",
       "prompt_number": 28,
       "text": [
        "['much',\n",
        " 'macho',\n",
        " 'mohawk',\n",
        " 'mask',\n",
        " 'mass',\n",
        " 'maggie',\n",
        " 'moussa',\n",
        " 'mousse',\n",
        " 'moesha',\n",
        " 'messiah',\n",
        " 'massa',\n",
        " 'messy',\n",
        " 'mohawks',\n",
        " 'miss',\n",
        " 'msie',\n",
        " 'misc',\n",
        " 'mickey',\n",
        " 'macs',\n",
        " 'mace',\n",
        " 'meg',\n",
        " 'mouse',\n",
        " 'make',\n",
        " 'macie',\n",
        " 'max',\n",
        " 'mac',\n",
        " 'moz',\n",
        " 'masks',\n",
        " 'mic',\n",
        " 'mix',\n",
        " 'mis',\n",
        " 'mess',\n",
        " 'maxi',\n",
        " 'mug',\n",
        " 'moose',\n",
        " 'msi',\n",
        " 'msg',\n",
        " 'mozz',\n",
        " 'moss',\n",
        " 'mugs',\n",
        " 'musky',\n",
        " 'mike']"
       ]
      }
     ],
     "prompt_number": 28
    },
    {
     "cell_type": "code",
     "collapsed": false,
     "input": [],
     "language": "python",
     "metadata": {},
     "outputs": []
    }
   ],
   "metadata": {}
  }
 ]
}